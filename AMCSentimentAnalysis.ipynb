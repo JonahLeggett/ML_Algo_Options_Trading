{
  "nbformat": 4,
  "nbformat_minor": 0,
  "metadata": {
    "colab": {
      "name": "AMCSentimentAnalysis.ipynb",
      "provenance": [],
      "toc_visible": true,
      "authorship_tag": "ABX9TyNwk5bAJxm6f+qXZ5ywxNUY",
      "include_colab_link": true
    },
    "kernelspec": {
      "name": "python3",
      "display_name": "Python 3"
    },
    "language_info": {
      "name": "python"
    }
  },
  "cells": [
    {
      "cell_type": "markdown",
      "metadata": {
        "id": "view-in-github",
        "colab_type": "text"
      },
      "source": [
        "<a href=\"https://colab.research.google.com/github/JonahLeggett/ML_Algo_Options_Trading/blob/main/AMCSentimentAnalysis.ipynb\" target=\"_parent\"><img src=\"https://colab.research.google.com/assets/colab-badge.svg\" alt=\"Open In Colab\"/></a>"
      ]
    },
    {
      "cell_type": "code",
      "metadata": {
        "colab": {
          "base_uri": "https://localhost:8080/"
        },
        "id": "xU1ZL5Sr4dOy",
        "outputId": "b9e6b05e-c96c-4892-fc76-27cc5359566d"
      },
      "source": [
        " !pip install sentiment-investor\n",
        " import json \n",
        " import requests\n",
        " import pandas as pd\n",
        " "
      ],
      "execution_count": 1,
      "outputs": [
        {
          "output_type": "stream",
          "text": [
            "Requirement already satisfied: sentiment-investor in /usr/local/lib/python3.7/dist-packages (1.0.2)\n",
            "Requirement already satisfied: sentipy in /usr/local/lib/python3.7/dist-packages (from sentiment-investor) (0.2.0)\n",
            "Requirement already satisfied: numpy<2.0.0,>=1.18.4 in /usr/local/lib/python3.7/dist-packages (from sentipy->sentiment-investor) (1.19.5)\n"
          ],
          "name": "stdout"
        }
      ]
    },
    {
      "cell_type": "code",
      "metadata": {
        "id": "3BUXwvpuz1v5"
      },
      "source": [
        "url = \"http://sentimentinvestor.com/api/v3/quote?symbol=AMC&token=Sl8Sn4UQMiRGzFEQaIw6&key=698740758823221\""
      ],
      "execution_count": 2,
      "outputs": []
    },
    {
      "cell_type": "code",
      "metadata": {
        "colab": {
          "base_uri": "https://localhost:8080/"
        },
        "id": "hLuquSpy0czL",
        "outputId": "40092f34-ace6-4650-cbe4-a1d4b1376795"
      },
      "source": [
        "response = requests.get(url).json()\n",
        "print(response)"
      ],
      "execution_count": 3,
      "outputs": [
        {
          "output_type": "stream",
          "text": [
            "{'AHI': 1.848460591133005, 'RHI': 1.007103246902696, 'SGP': 0.9520668518543306, 'last_update': 1613693837.6303163, 'reddit_comment_mentions': 16, 'reddit_comment_sentiment': 0.6666666666666666, 'reddit_post_mentions': 0, 'reddit_post_sentiment': None, 'sentiment': 0.7097987525273882, 'ticker': 'AMC', 'tweet_mentions': 219, 'tweet_sentiment': 0.717391304347826, 'yahoo_finance_sentiment': 0.8013468013468014, 'yahoo_finance_mentions': 447, 'stocktwits_sentiment': 0.7241379310344828, 'stocktwits_mentions': 110}\n"
          ],
          "name": "stdout"
        }
      ]
    },
    {
      "cell_type": "code",
      "metadata": {
        "colab": {
          "base_uri": "https://localhost:8080/",
          "height": 100
        },
        "id": "AhApAYiF1L8u",
        "outputId": "22860c38-35b4-46a2-9c81-3290c60a6047"
      },
      "source": [
        "sa_df = pd.DataFrame()\n",
        "sa_df = sa_df.append(response, ignore_index=True)\n",
        "sa_df"
      ],
      "execution_count": 4,
      "outputs": [
        {
          "output_type": "execute_result",
          "data": {
            "text/html": [
              "<div>\n",
              "<style scoped>\n",
              "    .dataframe tbody tr th:only-of-type {\n",
              "        vertical-align: middle;\n",
              "    }\n",
              "\n",
              "    .dataframe tbody tr th {\n",
              "        vertical-align: top;\n",
              "    }\n",
              "\n",
              "    .dataframe thead th {\n",
              "        text-align: right;\n",
              "    }\n",
              "</style>\n",
              "<table border=\"1\" class=\"dataframe\">\n",
              "  <thead>\n",
              "    <tr style=\"text-align: right;\">\n",
              "      <th></th>\n",
              "      <th>AHI</th>\n",
              "      <th>RHI</th>\n",
              "      <th>SGP</th>\n",
              "      <th>last_update</th>\n",
              "      <th>reddit_comment_mentions</th>\n",
              "      <th>reddit_comment_sentiment</th>\n",
              "      <th>reddit_post_mentions</th>\n",
              "      <th>reddit_post_sentiment</th>\n",
              "      <th>sentiment</th>\n",
              "      <th>stocktwits_mentions</th>\n",
              "      <th>stocktwits_sentiment</th>\n",
              "      <th>ticker</th>\n",
              "      <th>tweet_mentions</th>\n",
              "      <th>tweet_sentiment</th>\n",
              "      <th>yahoo_finance_mentions</th>\n",
              "      <th>yahoo_finance_sentiment</th>\n",
              "    </tr>\n",
              "  </thead>\n",
              "  <tbody>\n",
              "    <tr>\n",
              "      <th>0</th>\n",
              "      <td>1.848461</td>\n",
              "      <td>1.007103</td>\n",
              "      <td>0.952067</td>\n",
              "      <td>1.613694e+09</td>\n",
              "      <td>16.0</td>\n",
              "      <td>0.666667</td>\n",
              "      <td>0.0</td>\n",
              "      <td>None</td>\n",
              "      <td>0.709799</td>\n",
              "      <td>110.0</td>\n",
              "      <td>0.724138</td>\n",
              "      <td>AMC</td>\n",
              "      <td>219.0</td>\n",
              "      <td>0.717391</td>\n",
              "      <td>447.0</td>\n",
              "      <td>0.801347</td>\n",
              "    </tr>\n",
              "  </tbody>\n",
              "</table>\n",
              "</div>"
            ],
            "text/plain": [
              "        AHI       RHI  ...  yahoo_finance_mentions  yahoo_finance_sentiment\n",
              "0  1.848461  1.007103  ...                   447.0                 0.801347\n",
              "\n",
              "[1 rows x 16 columns]"
            ]
          },
          "metadata": {
            "tags": []
          },
          "execution_count": 4
        }
      ]
    },
    {
      "cell_type": "code",
      "metadata": {
        "id": "LjiEFM0C4lWB"
      },
      "source": [
        "from sentipy.sentipy import Sentipy \n",
        "\n",
        "token= \"Sl8Sn4UQMiRGzFEQaIw6\" \n",
        "key= \"698740758823221\" \n",
        "sentipy = Sentipy(token=token, key=key) "
      ],
      "execution_count": 5,
      "outputs": []
    },
    {
      "cell_type": "code",
      "metadata": {
        "colab": {
          "base_uri": "https://localhost:8080/",
          "height": 88
        },
        "id": "4uLmScDO45Ic",
        "outputId": "6c6dc7b2-a911-47a5-b871-475f478e16f8"
      },
      "source": [
        "#the quote method gives you access to information on specific tickers \n",
        "#the only parameter it takes is the symbol/ticker (in all caps) \n",
        "\n",
        "ticker = \"AMC\" \n",
        "quoteData = sentipy.quote(ticker)\n",
        "\n",
        "# below are all the fields you can access from the QuoteData object \n",
        "\n",
        "\"\"\"quoteData.ticker \n",
        "quoteData.AHI \n",
        "quoteData.sentiment \n",
        "quoteData.RHI \n",
        "quoteData.SGP \n",
        "quoteData.last_update \n",
        "quoteData.reddit_comment_mentions\n",
        "quoteData.reddit_post_mentions\n",
        "quoteData.reddit_post_sentiment\n",
        "quoteData.tweet_mentions\n",
        "quoteData.tweet_sentiment \n",
        "quoteData.yahoo_finance_mentions \n",
        "quoteData.yahoo_finance_sentiment\n",
        "quoteData.stocktwits_post_mentions \n",
        "quoteData.stocktwits_post_sentiment \"\"\""
      ],
      "execution_count": 6,
      "outputs": [
        {
          "output_type": "execute_result",
          "data": {
            "application/vnd.google.colaboratory.intrinsic+json": {
              "type": "string"
            },
            "text/plain": [
              "'quoteData.ticker \\nquoteData.AHI \\nquoteData.sentiment \\nquoteData.RHI \\nquoteData.SGP \\nquoteData.last_update \\nquoteData.reddit_comment_mentions\\nquoteData.reddit_post_mentions\\nquoteData.reddit_post_sentiment\\nquoteData.tweet_mentions\\nquoteData.tweet_sentiment \\nquoteData.yahoo_finance_mentions \\nquoteData.yahoo_finance_sentiment\\nquoteData.stocktwits_post_mentions \\nquoteData.stocktwits_post_sentiment '"
            ]
          },
          "metadata": {
            "tags": []
          },
          "execution_count": 6
        }
      ]
    },
    {
      "cell_type": "code",
      "metadata": {
        "colab": {
          "base_uri": "https://localhost:8080/"
        },
        "id": "K-8NgX0Lu1GO",
        "outputId": "cc93551c-e1da-4e08-8cb3-d02266c5c597"
      },
      "source": [
        "quoteData.reddit_comment_sentiment = sentipy.quote(ticker)\n",
        "quoteData.reddit_comment_sentiment"
      ],
      "execution_count": 7,
      "outputs": [
        {
          "output_type": "execute_result",
          "data": {
            "text/plain": [
              "<sentipy.sentipy.QuoteData at 0x7f200c368ad0>"
            ]
          },
          "metadata": {
            "tags": []
          },
          "execution_count": 7
        }
      ]
    },
    {
      "cell_type": "code",
      "metadata": {
        "colab": {
          "base_uri": "https://localhost:8080/",
          "height": 392
        },
        "id": "RjHWRWhZ5inw",
        "outputId": "6d123734-f1dc-4830-8d65-50704652d570"
      },
      "source": [
        "#limits are by default between 0 and about 100, because of how we batch requests (extend the limit by emailing us)\n",
        "#the metric parameter accepts [AHI,RHI,sentiment,SGP,tweet_mentions,tweet_sentiment,reddit_comment_mentions,reddit_comment_sentiment, reddit_post_mentions, reddit_post_sentiment,stocktwits_post_mentions,stocktwits_post_sentiment,yahoo_finance_comment_sentiment,yahoo_finance_comment_mentions]\n",
        "\n",
        "metric = \"AMC\"\n",
        "limit = 16 \n",
        "\n",
        "# The results of the query can be accessed through the SortData object. This contains a sort field, which is an array of BasicTicker objects. The fields these contain are listed below. \n",
        "\n",
        "sortData = sentipy.sort(metric, limit)\n",
        "\n",
        "trendingTickers = sortData.sort\n",
        "for ticker in trendingTickers:\n",
        "  ticker.ticker \n",
        "  ticker.AHI \n",
        "  ticker.RHI \n",
        "  ticker.sentiment \n",
        "  ticker.SGP "
      ],
      "execution_count": 8,
      "outputs": [
        {
          "output_type": "error",
          "ename": "AttributeError",
          "evalue": "ignored",
          "traceback": [
            "\u001b[0;31m---------------------------------------------------------------------------\u001b[0m",
            "\u001b[0;31mAttributeError\u001b[0m                            Traceback (most recent call last)",
            "\u001b[0;32m<ipython-input-8-0eba897de121>\u001b[0m in \u001b[0;36m<module>\u001b[0;34m()\u001b[0m\n\u001b[1;32m      7\u001b[0m \u001b[0;31m# The results of the query can be accessed through the SortData object. This contains a sort field, which is an array of BasicTicker objects. The fields these contain are listed below.\u001b[0m\u001b[0;34m\u001b[0m\u001b[0;34m\u001b[0m\u001b[0;34m\u001b[0m\u001b[0m\n\u001b[1;32m      8\u001b[0m \u001b[0;34m\u001b[0m\u001b[0m\n\u001b[0;32m----> 9\u001b[0;31m \u001b[0msortData\u001b[0m \u001b[0;34m=\u001b[0m \u001b[0msentipy\u001b[0m\u001b[0;34m.\u001b[0m\u001b[0msort\u001b[0m\u001b[0;34m(\u001b[0m\u001b[0mmetric\u001b[0m\u001b[0;34m,\u001b[0m \u001b[0mlimit\u001b[0m\u001b[0;34m)\u001b[0m\u001b[0;34m\u001b[0m\u001b[0;34m\u001b[0m\u001b[0m\n\u001b[0m\u001b[1;32m     10\u001b[0m \u001b[0;34m\u001b[0m\u001b[0m\n\u001b[1;32m     11\u001b[0m \u001b[0mtrendingTickers\u001b[0m \u001b[0;34m=\u001b[0m \u001b[0msortData\u001b[0m\u001b[0;34m.\u001b[0m\u001b[0msort\u001b[0m\u001b[0;34m\u001b[0m\u001b[0;34m\u001b[0m\u001b[0m\n",
            "\u001b[0;32m/usr/local/lib/python3.7/dist-packages/sentipy/sentipy.py\u001b[0m in \u001b[0;36msort\u001b[0;34m(self, metric, limit)\u001b[0m\n\u001b[1;32m     35\u001b[0m     }\n\u001b[1;32m     36\u001b[0m     \u001b[0mresponse\u001b[0m \u001b[0;34m=\u001b[0m \u001b[0mself\u001b[0m\u001b[0;34m.\u001b[0m\u001b[0mbase_request\u001b[0m\u001b[0;34m(\u001b[0m\u001b[0;34m\"sort\"\u001b[0m\u001b[0;34m,\u001b[0m \u001b[0mparams\u001b[0m\u001b[0;34m=\u001b[0m\u001b[0mparams\u001b[0m\u001b[0;34m)\u001b[0m\u001b[0;34m\u001b[0m\u001b[0;34m\u001b[0m\u001b[0m\n\u001b[0;32m---> 37\u001b[0;31m     \u001b[0;32mreturn\u001b[0m \u001b[0mSortData\u001b[0m\u001b[0;34m(\u001b[0m\u001b[0mresponse\u001b[0m\u001b[0;34m)\u001b[0m\u001b[0;34m\u001b[0m\u001b[0;34m\u001b[0m\u001b[0m\n\u001b[0m\u001b[1;32m     38\u001b[0m \u001b[0;34m\u001b[0m\u001b[0m\n\u001b[1;32m     39\u001b[0m   \u001b[0;32mdef\u001b[0m \u001b[0mhistorical\u001b[0m\u001b[0;34m(\u001b[0m\u001b[0mself\u001b[0m\u001b[0;34m,\u001b[0m \u001b[0msymbol\u001b[0m\u001b[0;34m,\u001b[0m \u001b[0mmetric\u001b[0m\u001b[0;34m)\u001b[0m\u001b[0;34m:\u001b[0m\u001b[0;34m\u001b[0m\u001b[0;34m\u001b[0m\u001b[0m\n",
            "\u001b[0;32m/usr/local/lib/python3.7/dist-packages/sentipy/sentipy.py\u001b[0m in \u001b[0;36m__init__\u001b[0;34m(self, json)\u001b[0m\n\u001b[1;32m     86\u001b[0m \u001b[0;32mclass\u001b[0m \u001b[0mSortData\u001b[0m\u001b[0;34m(\u001b[0m\u001b[0;34m)\u001b[0m\u001b[0;34m:\u001b[0m\u001b[0;34m\u001b[0m\u001b[0;34m\u001b[0m\u001b[0m\n\u001b[1;32m     87\u001b[0m   \u001b[0;32mdef\u001b[0m \u001b[0m__init__\u001b[0m\u001b[0;34m(\u001b[0m\u001b[0mself\u001b[0m\u001b[0;34m,\u001b[0m \u001b[0mjson\u001b[0m\u001b[0;34m)\u001b[0m\u001b[0;34m:\u001b[0m\u001b[0;34m\u001b[0m\u001b[0;34m\u001b[0m\u001b[0m\n\u001b[0;32m---> 88\u001b[0;31m     \u001b[0mself\u001b[0m\u001b[0;34m.\u001b[0m\u001b[0msort\u001b[0m \u001b[0;34m=\u001b[0m \u001b[0;34m[\u001b[0m\u001b[0mBasicTicker\u001b[0m\u001b[0;34m(\u001b[0m\u001b[0mdp\u001b[0m\u001b[0;34m)\u001b[0m \u001b[0;32mfor\u001b[0m \u001b[0mdp\u001b[0m \u001b[0;32min\u001b[0m \u001b[0mjson\u001b[0m\u001b[0;34m]\u001b[0m\u001b[0;34m\u001b[0m\u001b[0;34m\u001b[0m\u001b[0m\n\u001b[0m\u001b[1;32m     89\u001b[0m \u001b[0;34m\u001b[0m\u001b[0m\n\u001b[1;32m     90\u001b[0m \u001b[0;34m\u001b[0m\u001b[0m\n",
            "\u001b[0;32m/usr/local/lib/python3.7/dist-packages/sentipy/sentipy.py\u001b[0m in \u001b[0;36m<listcomp>\u001b[0;34m(.0)\u001b[0m\n\u001b[1;32m     86\u001b[0m \u001b[0;32mclass\u001b[0m \u001b[0mSortData\u001b[0m\u001b[0;34m(\u001b[0m\u001b[0;34m)\u001b[0m\u001b[0;34m:\u001b[0m\u001b[0;34m\u001b[0m\u001b[0;34m\u001b[0m\u001b[0m\n\u001b[1;32m     87\u001b[0m   \u001b[0;32mdef\u001b[0m \u001b[0m__init__\u001b[0m\u001b[0;34m(\u001b[0m\u001b[0mself\u001b[0m\u001b[0;34m,\u001b[0m \u001b[0mjson\u001b[0m\u001b[0;34m)\u001b[0m\u001b[0;34m:\u001b[0m\u001b[0;34m\u001b[0m\u001b[0;34m\u001b[0m\u001b[0m\n\u001b[0;32m---> 88\u001b[0;31m     \u001b[0mself\u001b[0m\u001b[0;34m.\u001b[0m\u001b[0msort\u001b[0m \u001b[0;34m=\u001b[0m \u001b[0;34m[\u001b[0m\u001b[0mBasicTicker\u001b[0m\u001b[0;34m(\u001b[0m\u001b[0mdp\u001b[0m\u001b[0;34m)\u001b[0m \u001b[0;32mfor\u001b[0m \u001b[0mdp\u001b[0m \u001b[0;32min\u001b[0m \u001b[0mjson\u001b[0m\u001b[0;34m]\u001b[0m\u001b[0;34m\u001b[0m\u001b[0;34m\u001b[0m\u001b[0m\n\u001b[0m\u001b[1;32m     89\u001b[0m \u001b[0;34m\u001b[0m\u001b[0m\n\u001b[1;32m     90\u001b[0m \u001b[0;34m\u001b[0m\u001b[0m\n",
            "\u001b[0;32m/usr/local/lib/python3.7/dist-packages/sentipy/sentipy.py\u001b[0m in \u001b[0;36m__init__\u001b[0;34m(self, json)\u001b[0m\n\u001b[1;32m     47\u001b[0m \u001b[0;32mclass\u001b[0m \u001b[0mBasicTicker\u001b[0m\u001b[0;34m(\u001b[0m\u001b[0;34m)\u001b[0m\u001b[0;34m:\u001b[0m\u001b[0;34m\u001b[0m\u001b[0;34m\u001b[0m\u001b[0m\n\u001b[1;32m     48\u001b[0m   \u001b[0;32mdef\u001b[0m \u001b[0m__init__\u001b[0m\u001b[0;34m(\u001b[0m\u001b[0mself\u001b[0m\u001b[0;34m,\u001b[0m \u001b[0mjson\u001b[0m\u001b[0;34m)\u001b[0m\u001b[0;34m:\u001b[0m\u001b[0;34m\u001b[0m\u001b[0;34m\u001b[0m\u001b[0m\n\u001b[0;32m---> 49\u001b[0;31m     \u001b[0mself\u001b[0m\u001b[0;34m.\u001b[0m\u001b[0mticker\u001b[0m \u001b[0;34m=\u001b[0m \u001b[0mjson\u001b[0m\u001b[0;34m.\u001b[0m\u001b[0mget\u001b[0m\u001b[0;34m(\u001b[0m\u001b[0;34m\"ticker\"\u001b[0m\u001b[0;34m)\u001b[0m\u001b[0;34m\u001b[0m\u001b[0;34m\u001b[0m\u001b[0m\n\u001b[0m\u001b[1;32m     50\u001b[0m     \u001b[0mself\u001b[0m\u001b[0;34m.\u001b[0m\u001b[0mAHI\u001b[0m \u001b[0;34m=\u001b[0m \u001b[0mjson\u001b[0m\u001b[0;34m.\u001b[0m\u001b[0mget\u001b[0m\u001b[0;34m(\u001b[0m\u001b[0;34m\"AHI\"\u001b[0m\u001b[0;34m)\u001b[0m\u001b[0;34m\u001b[0m\u001b[0;34m\u001b[0m\u001b[0m\n\u001b[1;32m     51\u001b[0m     \u001b[0mself\u001b[0m\u001b[0;34m.\u001b[0m\u001b[0msentiment\u001b[0m \u001b[0;34m=\u001b[0m \u001b[0mjson\u001b[0m\u001b[0;34m.\u001b[0m\u001b[0mget\u001b[0m\u001b[0;34m(\u001b[0m\u001b[0;34m\"sentiment\"\u001b[0m\u001b[0;34m)\u001b[0m\u001b[0;34m\u001b[0m\u001b[0;34m\u001b[0m\u001b[0m\n",
            "\u001b[0;31mAttributeError\u001b[0m: 'str' object has no attribute 'get'"
          ]
        }
      ]
    },
    {
      "cell_type": "code",
      "metadata": {
        "id": "EAiFHWGF5nUt"
      },
      "source": [
        "#the historical method returns historical data for a specific field and ticker as a HistoricalData object \n",
        "#the data can be accessed through the history field as an array of HistoricalDatapoint objects which each have a timestamp field containing the timestamp (time since epoch) when the datapoint was recorded and a data field containing the value of the actual metric at that time. T \n",
        "\n",
        "ticker= \"AMC\"\n",
        "metric= \"tweet_mentions\"\n",
        "\n",
        "\n",
        "#the metric parameter accepts [AHI,RHI,sentiment,SGP,tweet_mentions,tweet_sentiment,reddit_comment_mentions,reddit_comment_sentiment, reddit_post_mentions, reddit_post_sentiment,stocktwits_post_mentions,stocktwits_post_sentiment,yahoo_finance_sentiment,yahoo_finance_mentions]\n",
        "\n",
        "\n",
        "historicalData = sentipy.historical(ticker, metric)\n",
        "\n",
        "historicalData.sort(direction=\"asc\") # can be \"asc\" or \"desc\"\n",
        "\n",
        "history = historicalData.history\n",
        "for datapoint in history:\n",
        "  datapoint.timestamp\n",
        "  datapoint.data\n",
        "\n",
        "display(history)"
      ],
      "execution_count": null,
      "outputs": []
    },
    {
      "cell_type": "code",
      "metadata": {
        "id": "rKq9UZ15c11a"
      },
      "source": [
        "history_url = \"http://sentimentinvestor.com/api/v3/historical?metric=AHI&symbol=AMC&token=Sl8Sn4UQMiRGzFEQaIw6&key=698740758823221\""
      ],
      "execution_count": 9,
      "outputs": []
    },
    {
      "cell_type": "code",
      "metadata": {
        "colab": {
          "base_uri": "https://localhost:8080/",
          "height": 204
        },
        "id": "eN4imHJLcetg",
        "outputId": "ecf59f44-49c9-4ae3-b321-1f518ad7a5a4"
      },
      "source": [
        "history_response = requests.get(history_url).json()\n",
        "#print(json.dumps(history_response, indent = 4))\n",
        "\n",
        "history_sa_df = pd.DataFrame.from_dict(history_response)\n",
        "display(history_sa_df.head())"
      ],
      "execution_count": 10,
      "outputs": [
        {
          "output_type": "display_data",
          "data": {
            "text/html": [
              "<div>\n",
              "<style scoped>\n",
              "    .dataframe tbody tr th:only-of-type {\n",
              "        vertical-align: middle;\n",
              "    }\n",
              "\n",
              "    .dataframe tbody tr th {\n",
              "        vertical-align: top;\n",
              "    }\n",
              "\n",
              "    .dataframe thead th {\n",
              "        text-align: right;\n",
              "    }\n",
              "</style>\n",
              "<table border=\"1\" class=\"dataframe\">\n",
              "  <thead>\n",
              "    <tr style=\"text-align: right;\">\n",
              "      <th></th>\n",
              "      <th>data</th>\n",
              "      <th>timestamp</th>\n",
              "    </tr>\n",
              "  </thead>\n",
              "  <tbody>\n",
              "    <tr>\n",
              "      <th>0</th>\n",
              "      <td>1.041215</td>\n",
              "      <td>1.619095e+09</td>\n",
              "    </tr>\n",
              "    <tr>\n",
              "      <th>1</th>\n",
              "      <td>1.530665</td>\n",
              "      <td>1.619098e+09</td>\n",
              "    </tr>\n",
              "    <tr>\n",
              "      <th>2</th>\n",
              "      <td>1.692570</td>\n",
              "      <td>1.619102e+09</td>\n",
              "    </tr>\n",
              "    <tr>\n",
              "      <th>3</th>\n",
              "      <td>1.390353</td>\n",
              "      <td>1.619105e+09</td>\n",
              "    </tr>\n",
              "    <tr>\n",
              "      <th>4</th>\n",
              "      <td>1.716379</td>\n",
              "      <td>1.619109e+09</td>\n",
              "    </tr>\n",
              "  </tbody>\n",
              "</table>\n",
              "</div>"
            ],
            "text/plain": [
              "       data     timestamp\n",
              "0  1.041215  1.619095e+09\n",
              "1  1.530665  1.619098e+09\n",
              "2  1.692570  1.619102e+09\n",
              "3  1.390353  1.619105e+09\n",
              "4  1.716379  1.619109e+09"
            ]
          },
          "metadata": {
            "tags": []
          }
        }
      ]
    },
    {
      "cell_type": "code",
      "metadata": {
        "colab": {
          "base_uri": "https://localhost:8080/",
          "height": 204
        },
        "id": "ssNpnCvXlpCd",
        "outputId": "042c4d93-d90e-467a-ca7f-0f47abc0bcfc"
      },
      "source": [
        "from datetime import datetime\n",
        "\n",
        "#history_sa_df['timestamp'].dtype\n",
        "\n",
        "#history_sa_df['datetime'] = datetime.fromtimestamp(history_sa_df.loc[1].astype(int))\n",
        "for index, row in history_sa_df.iterrows():\n",
        "  timestamp = row['timestamp']\n",
        "  timestamp = datetime.fromtimestamp(timestamp)\n",
        "\n",
        "  history_sa_df.loc[index, 'timestamp'] = timestamp\n",
        "  #print(index, timestamp)"
      ],
      "execution_count": 11,
      "outputs": [
        {
          "output_type": "execute_result",
          "data": {
            "text/html": [
              "<div>\n",
              "<style scoped>\n",
              "    .dataframe tbody tr th:only-of-type {\n",
              "        vertical-align: middle;\n",
              "    }\n",
              "\n",
              "    .dataframe tbody tr th {\n",
              "        vertical-align: top;\n",
              "    }\n",
              "\n",
              "    .dataframe thead th {\n",
              "        text-align: right;\n",
              "    }\n",
              "</style>\n",
              "<table border=\"1\" class=\"dataframe\">\n",
              "  <thead>\n",
              "    <tr style=\"text-align: right;\">\n",
              "      <th></th>\n",
              "      <th>data</th>\n",
              "      <th>timestamp</th>\n",
              "    </tr>\n",
              "  </thead>\n",
              "  <tbody>\n",
              "    <tr>\n",
              "      <th>1830</th>\n",
              "      <td>2.188085</td>\n",
              "      <td>2021-07-12 22:35:09.615917</td>\n",
              "    </tr>\n",
              "    <tr>\n",
              "      <th>1831</th>\n",
              "      <td>2.283159</td>\n",
              "      <td>2021-07-12 23:35:12.666415</td>\n",
              "    </tr>\n",
              "    <tr>\n",
              "      <th>1832</th>\n",
              "      <td>2.314778</td>\n",
              "      <td>2021-07-13 00:35:12.588303</td>\n",
              "    </tr>\n",
              "    <tr>\n",
              "      <th>1833</th>\n",
              "      <td>1.997014</td>\n",
              "      <td>2021-07-13 01:35:13.793008</td>\n",
              "    </tr>\n",
              "    <tr>\n",
              "      <th>1834</th>\n",
              "      <td>1.848461</td>\n",
              "      <td>2021-07-13 02:35:14.336028</td>\n",
              "    </tr>\n",
              "  </tbody>\n",
              "</table>\n",
              "</div>"
            ],
            "text/plain": [
              "          data                   timestamp\n",
              "1830  2.188085  2021-07-12 22:35:09.615917\n",
              "1831  2.283159  2021-07-12 23:35:12.666415\n",
              "1832  2.314778  2021-07-13 00:35:12.588303\n",
              "1833  1.997014  2021-07-13 01:35:13.793008\n",
              "1834  1.848461  2021-07-13 02:35:14.336028"
            ]
          },
          "metadata": {
            "tags": []
          },
          "execution_count": 11
        }
      ]
    },
    {
      "cell_type": "code",
      "metadata": {
        "colab": {
          "base_uri": "https://localhost:8080/",
          "height": 391
        },
        "id": "_AYWDrem0_6T",
        "outputId": "755fc216-9f52-450f-8103-66960845a88f"
      },
      "source": [
        "display(history_sa_df.head())\n",
        "display(history_sa_df.tail())"
      ],
      "execution_count": 12,
      "outputs": [
        {
          "output_type": "display_data",
          "data": {
            "text/html": [
              "<div>\n",
              "<style scoped>\n",
              "    .dataframe tbody tr th:only-of-type {\n",
              "        vertical-align: middle;\n",
              "    }\n",
              "\n",
              "    .dataframe tbody tr th {\n",
              "        vertical-align: top;\n",
              "    }\n",
              "\n",
              "    .dataframe thead th {\n",
              "        text-align: right;\n",
              "    }\n",
              "</style>\n",
              "<table border=\"1\" class=\"dataframe\">\n",
              "  <thead>\n",
              "    <tr style=\"text-align: right;\">\n",
              "      <th></th>\n",
              "      <th>data</th>\n",
              "      <th>timestamp</th>\n",
              "    </tr>\n",
              "  </thead>\n",
              "  <tbody>\n",
              "    <tr>\n",
              "      <th>0</th>\n",
              "      <td>1.041215</td>\n",
              "      <td>2021-04-22 12:30:05.633654</td>\n",
              "    </tr>\n",
              "    <tr>\n",
              "      <th>1</th>\n",
              "      <td>1.530665</td>\n",
              "      <td>2021-04-22 13:30:05.037147</td>\n",
              "    </tr>\n",
              "    <tr>\n",
              "      <th>2</th>\n",
              "      <td>1.692570</td>\n",
              "      <td>2021-04-22 14:30:06.888761</td>\n",
              "    </tr>\n",
              "    <tr>\n",
              "      <th>3</th>\n",
              "      <td>1.390353</td>\n",
              "      <td>2021-04-22 15:30:08.004109</td>\n",
              "    </tr>\n",
              "    <tr>\n",
              "      <th>4</th>\n",
              "      <td>1.716379</td>\n",
              "      <td>2021-04-22 16:30:07.793892</td>\n",
              "    </tr>\n",
              "  </tbody>\n",
              "</table>\n",
              "</div>"
            ],
            "text/plain": [
              "       data                   timestamp\n",
              "0  1.041215  2021-04-22 12:30:05.633654\n",
              "1  1.530665  2021-04-22 13:30:05.037147\n",
              "2  1.692570  2021-04-22 14:30:06.888761\n",
              "3  1.390353  2021-04-22 15:30:08.004109\n",
              "4  1.716379  2021-04-22 16:30:07.793892"
            ]
          },
          "metadata": {
            "tags": []
          }
        },
        {
          "output_type": "display_data",
          "data": {
            "text/html": [
              "<div>\n",
              "<style scoped>\n",
              "    .dataframe tbody tr th:only-of-type {\n",
              "        vertical-align: middle;\n",
              "    }\n",
              "\n",
              "    .dataframe tbody tr th {\n",
              "        vertical-align: top;\n",
              "    }\n",
              "\n",
              "    .dataframe thead th {\n",
              "        text-align: right;\n",
              "    }\n",
              "</style>\n",
              "<table border=\"1\" class=\"dataframe\">\n",
              "  <thead>\n",
              "    <tr style=\"text-align: right;\">\n",
              "      <th></th>\n",
              "      <th>data</th>\n",
              "      <th>timestamp</th>\n",
              "    </tr>\n",
              "  </thead>\n",
              "  <tbody>\n",
              "    <tr>\n",
              "      <th>1830</th>\n",
              "      <td>2.188085</td>\n",
              "      <td>2021-07-12 22:35:09.615917</td>\n",
              "    </tr>\n",
              "    <tr>\n",
              "      <th>1831</th>\n",
              "      <td>2.283159</td>\n",
              "      <td>2021-07-12 23:35:12.666415</td>\n",
              "    </tr>\n",
              "    <tr>\n",
              "      <th>1832</th>\n",
              "      <td>2.314778</td>\n",
              "      <td>2021-07-13 00:35:12.588303</td>\n",
              "    </tr>\n",
              "    <tr>\n",
              "      <th>1833</th>\n",
              "      <td>1.997014</td>\n",
              "      <td>2021-07-13 01:35:13.793008</td>\n",
              "    </tr>\n",
              "    <tr>\n",
              "      <th>1834</th>\n",
              "      <td>1.848461</td>\n",
              "      <td>2021-07-13 02:35:14.336028</td>\n",
              "    </tr>\n",
              "  </tbody>\n",
              "</table>\n",
              "</div>"
            ],
            "text/plain": [
              "          data                   timestamp\n",
              "1830  2.188085  2021-07-12 22:35:09.615917\n",
              "1831  2.283159  2021-07-12 23:35:12.666415\n",
              "1832  2.314778  2021-07-13 00:35:12.588303\n",
              "1833  1.997014  2021-07-13 01:35:13.793008\n",
              "1834  1.848461  2021-07-13 02:35:14.336028"
            ]
          },
          "metadata": {
            "tags": []
          }
        }
      ]
    },
    {
      "cell_type": "code",
      "metadata": {
        "id": "w1e70AZ6dPI8"
      },
      "source": [
        "from datetime import datetime\n",
        "\n",
        "df = pd.to_datetime(history_sa_df['timestamp'])\n",
        "display(df.tail())\n",
        "display(df.head())"
      ],
      "execution_count": null,
      "outputs": []
    },
    {
      "cell_type": "code",
      "metadata": {
        "id": "LLJVZ_cbloA0"
      },
      "source": [
        ""
      ],
      "execution_count": null,
      "outputs": []
    },
    {
      "cell_type": "code",
      "metadata": {
        "id": "BERnq1eutk9q"
      },
      "source": [
        ""
      ],
      "execution_count": null,
      "outputs": []
    },
    {
      "cell_type": "code",
      "metadata": {
        "id": "iSUAH1EplF1z"
      },
      "source": [
        ""
      ],
      "execution_count": null,
      "outputs": []
    }
  ]
}